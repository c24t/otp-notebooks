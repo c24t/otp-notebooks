{
 "cells": [
  {
   "cell_type": "code",
   "execution_count": 44,
   "metadata": {},
   "outputs": [
    {
     "name": "stdout",
     "output_type": "stream",
     "text": [
      "[(<ContextVar name='k1' at 0x109a47530>, 'v1')]\n",
      "[(<ContextVar name='k2' at 0x109a47650>, 'v2'), (<ContextVar name='k1' at 0x109a47530>, 'v1')]\n"
     ]
    }
   ],
   "source": [
    "# context vars created in a coroutine are available to others\n",
    "import contextvars\n",
    "\n",
    "async def print_context(k, v):\n",
    "    contextvars.ContextVar(k).set(v)\n",
    "    print(list(contextvars.copy_context().items()))\n",
    "    \n",
    "async def main():\n",
    "    await print_context('k1', 'v1')\n",
    "    await print_context('k2', 'v2')\n",
    "    \n",
    "await main()"
   ]
  },
  {
   "cell_type": "code",
   "execution_count": 8,
   "metadata": {},
   "outputs": [
    {
     "name": "stdout",
     "output_type": "stream",
     "text": [
      "[(<ContextVar name='c' at 0x1096febf0>, {'k1': 'v1'})]\n",
      "[(<ContextVar name='c' at 0x1096febf0>, {'k2': 'v2'})]\n"
     ]
    }
   ],
   "source": [
    "# changes to a contextvar persist after exiting coroutine\n",
    "import contextvars\n",
    "import copy\n",
    "import asyncio\n",
    "\n",
    "c = contextvars.ContextVar('c')\n",
    "c.set({})\n",
    "\n",
    "\n",
    "def contextupdate(k, v):\n",
    "    d = copy.copy(c.get())\n",
    "    d[k] = v\n",
    "    c.set(d)\n",
    "    \n",
    "async def print_context(k, v):\n",
    "    contextupdate(k, v)\n",
    "    print(list(contextvars.copy_context().items()))\n",
    "    \n",
    "async def main():\n",
    "    r1 = print_context('k1', 'v1')\n",
    "    r2 = print_context('k2', 'v2')\n",
    "    \n",
    "    # if we block on r1, `set`s persist in context to second task\n",
    "    # await r1; await r2\n",
    "    ## [(<ContextVar name='c' at 0x1096fe590>, {'k1': 'v1'})]\n",
    "    ## [(<ContextVar name='c' at 0x1096fe590>, {'k1': 'v1', 'k2': 'v2'})]\n",
    "\n",
    "    # ...but if not, second task gets context at the time of the call\n",
    "    await asyncio.gather(r1, r2)\n",
    "    #[(<ContextVar name='c' at 0x1096febf0>, {'k1': 'v1'})]\n",
    "    # [(<ContextVar name='c' at 0x1096febf0>, {'k2': 'v2'})]\n",
    "    \n",
    "await main()"
   ]
  },
  {
   "cell_type": "code",
   "execution_count": 37,
   "metadata": {},
   "outputs": [
    {
     "name": "stdout",
     "output_type": "stream",
     "text": [
      "got {}\n",
      "got {}\n",
      "{'k1': 'v2'}\n",
      "[(<ContextVar name='c' at 0x10915bbf0>, {'k1': 'v2'})]\n",
      "{'k1': 'v1'}\n",
      "[(<ContextVar name='c' at 0x10915bbf0>, {'k1': 'v1'})]\n"
     ]
    }
   ],
   "source": [
    "# ContextVar.set() is scoped to task, but changes to mutable data affect everyone\n",
    "import asyncio\n",
    "import contextvars\n",
    "import copy\n",
    "\n",
    "c = contextvars.ContextVar('c')\n",
    "c.set({})\n",
    "\n",
    "# this one works as expected\n",
    "def contextupdate(k, v):\n",
    "    print(\"got {}\".format(c.get()))\n",
    "    c.set({k: v})\n",
    "\n",
    "# ...but this one breaks\n",
    "def contextupdate2(k, v):\n",
    "    d = c.get()\n",
    "    print(\"got {}\".format(d))\n",
    "    d[k] = v\n",
    "    # this is a red herring\n",
    "    # we already modified the dict c is holding above\n",
    "    c.set(d)\n",
    "\n",
    "# ...but THIS one works\n",
    "# `set` is local to the coroutine, but mutating the underlying dict affects everyone\n",
    "def contextupdate3(k, v):\n",
    "    d = copy.copy(c.get())\n",
    "    print(\"got {}\".format(d))\n",
    "    d[k] = v\n",
    "    c.set(d)\n",
    "    \n",
    "async def print_context(k, v, s):\n",
    "    contextupdate3(k, v)\n",
    "    await asyncio.sleep(s)\n",
    "    print(c.get())\n",
    "    print(list(contextvars.copy_context().items()))\n",
    "    await asyncio.sleep(2)\n",
    "\n",
    "    \n",
    "async def main():\n",
    "    await asyncio.gather(\n",
    "        print_context('k1', 'v1', .2),\n",
    "        print_context('k1', 'v2', .1)\n",
    "    )\n",
    "    \n",
    "await main()"
   ]
  },
  {
   "cell_type": "code",
   "execution_count": 11,
   "metadata": {},
   "outputs": [
    {
     "name": "stdout",
     "output_type": "stream",
     "text": [
      "worker 1 start\n",
      "worker 2 start\n",
      "popped context <opentelemetry.sdk.context.contextvars_context.ContextVarsContext object at 0x10c8bcad0>\n",
      "popped context <opentelemetry.sdk.context.contextvars_context.ContextVarsContext object at 0x10c8bca90>\n",
      "context in w1 is now <opentelemetry.sdk.context.contextvars_context.ContextVarsContext object at 0x10c8bca90>\n",
      "setting 1 in <opentelemetry.sdk.context.contextvars_context.ContextVarsContext object at 0x10c8bca90>\n",
      "context in w2 is now <opentelemetry.sdk.context.contextvars_context.ContextVarsContext object at 0x10c8bca90>\n",
      "setting 2 in <opentelemetry.sdk.context.contextvars_context.ContextVarsContext object at 0x10c8bca90>\n",
      "1 1\n",
      "worker 1 done\n",
      "2 2\n",
      "worker 2 done\n"
     ]
    }
   ],
   "source": [
    "import asyncio\n",
    "from opentelemetry import context\n",
    "from opentelemetry.sdk.context.contextvars_context import ContextVarsContext\n",
    "\n",
    "context.set_current(ContextVarsContext())\n",
    "context.get_current().set_value('foo', 1)\n",
    "context.get_current().get_value('foo')\n",
    "\n",
    "from queue import Queue\n",
    "\n",
    "q = Queue()\n",
    "\n",
    "async def main():\n",
    "    q.put(context.get_current().copy())\n",
    "    q.put(context.get_current().copy())\n",
    "    q.put(context.get_current().copy())\n",
    "    \n",
    "    f1 = worker(1)\n",
    "    f2 = worker(2)\n",
    "    \n",
    "    asyncio.gather(f1, f2)\n",
    "\n",
    "async def worker(v):\n",
    "    print(\"worker {} start\".format(v))\n",
    "    await asyncio.sleep(.1)\n",
    "    \n",
    "    popped_context = q.get_nowait()\n",
    "    print(\"popped context {}\".format(popped_context))\n",
    "    context.set_current(popped_context)\n",
    "    await asyncio.sleep(.1)\n",
    "    \n",
    "    print(\"context in w{} is now {}\".format(v, context.get_current()))\n",
    "    print(\"setting {} in {}\".format(v, context.get_current()))\n",
    "    context.get_current().set_value('foo', v)\n",
    "    await asyncio.sleep(.1 * v)\n",
    "\n",
    "\n",
    "    \n",
    "#     print(\"worker {} sleep\".format(v))\n",
    "#     # await asyncio.sleep(3 - v)\n",
    "    \n",
    "    print(v, context.get_current().get_value('foo'))\n",
    "    print(\"worker {} done\".format(v))\n",
    "\n",
    "\n",
    "await main()"
   ]
  },
  {
   "cell_type": "code",
   "execution_count": 45,
   "metadata": {},
   "outputs": [
    {
     "name": "stdout",
     "output_type": "stream",
     "text": [
      "[task 1] <Context at 0x110349dd0: k=1>\n",
      "[task 2] <Context at 0x110349250: k=2>\n",
      "[task 1] <Context at 0x110349250: k=None>\n"
     ]
    }
   ],
   "source": [
    "import asyncio\n",
    "from opentelemetry import context\n",
    "from opentelemetry.sdk.context.contextvars_context import ContextVarsContext\n",
    "\n",
    "from queue import Queue\n",
    "from threading import Event\n",
    "\n",
    "context.set_current(ContextVarsContext())\n",
    "\n",
    "def tos(context):\n",
    "    return \"<Context at {}: {}>\".format(\n",
    "        hex(id(context)),\n",
    "    ','.join([\"{}={}\".format(k, v.get(None)) for k, v in context._contextvars.items()])\n",
    "    )\n",
    "\n",
    "q = Queue()\n",
    "run1 = Event()\n",
    "run2 = Event()\n",
    "\n",
    "async def main():\n",
    "    q.put(context.get_current().copy())\n",
    "    q.put(context.get_current().copy())\n",
    "    \n",
    "    asyncio.gather(a1(), a2())\n",
    "    \n",
    "async def a1():\n",
    "    # (Step 1)\n",
    "    context.set_current(q.get_nowait())\n",
    "    context.get_current().set_value('k', 1)\n",
    "    \n",
    "    # Expected context is current, k=1\n",
    "    print(\"[task 1] {}\".format(tos(context.get_current())))\n",
    "    \n",
    "    # (GOTO 2)\n",
    "    run2.set(); await asyncio.sleep(0); run1.wait();\n",
    "\n",
    "    # (Step 3)\n",
    "    # Current context has changed AND k=None because the call to `set` k=2 happened in the other task!\n",
    "    print(\"[task 1] {}\".format(tos(context.get_current())))\n",
    "\n",
    "\n",
    "async def a2():   \n",
    "    run2.wait()\n",
    "    \n",
    "    # (Step 2)  \n",
    "    context.set_current(q.get_nowait())\n",
    "    context.get_current().set_value('k', 2)\n",
    "    \n",
    "    # Expected context is current, k=2\n",
    "    print(\"[task 2] {}\".format(tos(context.get_current())))\n",
    "    \n",
    "    # (GOTO 3)\n",
    "    run1.set(); await asyncio.sleep(0);\n",
    "\n",
    "await main()"
   ]
  },
  {
   "cell_type": "code",
   "execution_count": 45,
   "metadata": {},
   "outputs": [
    {
     "name": "stdout",
     "output_type": "stream",
     "text": [
      "[task 1] <Context at 0x110349dd0: k=1>\n",
      "[task 2] <Context at 0x110349250: k=2>\n",
      "[task 1] <Context at 0x110349250: k=None>\n"
     ]
    }
   ],
   "source": [
    "import asyncio\n",
    "from opentelemetry import context\n",
    "from opentelemetry.sdk.context.contextvars_context import ContextVarsContext\n",
    "\n",
    "from queue import Queue\n",
    "from threading import Event\n",
    "\n",
    "context.set_current(ContextVarsContext())\n",
    "\n",
    "def tos(context):\n",
    "    return \"<Context at {}: {}>\".format(\n",
    "        hex(id(context)),\n",
    "    ','.join([\"{}={}\".format(k, v.get(None)) for k, v in context._contextvars.items()])\n",
    "    )\n",
    "\n",
    "q = Queue()\n",
    "run1 = Event()\n",
    "run2 = Event()\n",
    "\n",
    "async def main():\n",
    "    q.put(context.get_current().copy())\n",
    "    q.put(context.get_current().copy())\n",
    "    \n",
    "    asyncio.gather(work(1), work(2))\n",
    "    \n",
    "async def work(val):\n",
    "    context.set_current(q.get_nowait())\n",
    "    context.get_current().set_value('k', val)\n",
    "    # At this point context.get_current() should be the one we popped from the stack, and current_context.get_value('k') should be val\n",
    "\n",
    "\n",
    "async def a2():   \n",
    "    run2.wait()\n",
    "    \n",
    "    # (Step 2)  \n",
    "    context.set_current(q.get_nowait())\n",
    "    context.get_current().set_value('k', 2)\n",
    "    \n",
    "    # Expected context is current, k=2\n",
    "    print(\"[task 2] {}\".format(tos(context.get_current())))\n",
    "    \n",
    "    # (GOTO 3)\n",
    "    run1.set(); await asyncio.sleep(0);\n",
    "\n",
    "await main()"
   ]
  },
  {
   "cell_type": "code",
   "execution_count": 43,
   "metadata": {},
   "outputs": [
    {
     "name": "stdout",
     "output_type": "stream",
     "text": [
      "<Context at 0x1103cda90: k=None>\n"
     ]
    }
   ],
   "source": [
    "c = context.get_current()\n",
    "c._contextvars\n",
    "\n",
    "def print_context(context):\n",
    "    print(\"<Context at {}: {}>\".format(\n",
    "        hex(id(context)),\n",
    "    ','.join([\"{}={}\".format(k, v.get(None)) for k, v in context._contextvars.items()])\n",
    "         ))\n",
    "    \n",
    "print_context(c)\n",
    "cv = c._contextvars['k']"
   ]
  },
  {
   "cell_type": "code",
   "execution_count": 2,
   "metadata": {},
   "outputs": [
    {
     "name": "stdout",
     "output_type": "stream",
     "text": [
      "<Context at 0x106dc0790: k=1>\n",
      "<Context at 0x107799710: k=2>\n"
     ]
    }
   ],
   "source": [
    "import asyncio\n",
    "from queue import Queue\n",
    "\n",
    "from opentelemetry import context\n",
    "from opentelemetry.sdk.context.contextvars_context import ContextVarsContext\n",
    "\n",
    "context.set_current(ContextVarsContext())\n",
    "\n",
    "q = Queue()\n",
    "\n",
    "async def main():\n",
    "    q.put(context.get_current().copy())\n",
    "    q.put(context.get_current().copy())\n",
    "    asyncio.gather(work(1), work(2))\n",
    "\n",
    "async def work(val):\n",
    "    context.set_current(q.get_nowait())\n",
    "    context.get_current().set_value('k', val)\n",
    "    # At this point context.get_current() should be the one we popped from the\n",
    "    # stack, and current_context.get_value('k') should be `val`\n",
    "\n",
    "await main()"
   ]
  },
  {
   "cell_type": "code",
   "execution_count": null,
   "metadata": {},
   "outputs": [],
   "source": []
  }
 ],
 "metadata": {
  "kernelspec": {
   "display_name": "opentelemetry",
   "language": "python",
   "name": "opentelemetry"
  },
  "language_info": {
   "codemirror_mode": {
    "name": "ipython",
    "version": 3
   },
   "file_extension": ".py",
   "mimetype": "text/x-python",
   "name": "python",
   "nbconvert_exporter": "python",
   "pygments_lexer": "ipython3",
   "version": "3.7.4"
  }
 },
 "nbformat": 4,
 "nbformat_minor": 2
}
