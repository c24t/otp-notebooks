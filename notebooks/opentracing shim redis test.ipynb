{
 "cells": [
  {
   "cell_type": "code",
   "execution_count": 1,
   "metadata": {},
   "outputs": [],
   "source": [
    "%load_ext autoreload\n",
    "%autoreload 2"
   ]
  },
  {
   "cell_type": "code",
   "execution_count": 2,
   "metadata": {},
   "outputs": [
    {
     "data": {
      "text/plain": [
       "<opentelemetry.sdk.trace.Tracer at 0x111d9d128>"
      ]
     },
     "execution_count": 2,
     "metadata": {},
     "output_type": "execute_result"
    }
   ],
   "source": [
    "from opentelemetry.sdk.trace import Tracer\n",
    "from opentelemetry import trace as trace_api\n",
    "\n",
    "try:\n",
    "    trace_api.set_preferred_tracer_implementation(lambda T: Tracer())\n",
    "    tracer = trace_api.tracer()\n",
    "except RuntimeError:\n",
    "    pass\n",
    "\n",
    "tracer"
   ]
  },
  {
   "cell_type": "code",
   "execution_count": 3,
   "metadata": {},
   "outputs": [],
   "source": [
    "# https://github.com/open-telemetry/opentelemetry-python/blob/master/ext/opentelemetry-ext-jaeger/examples/jaeger_exporter_example.py\n",
    "\n",
    "import time\n",
    "from opentelemetry.ext import jaeger\n",
    "from opentelemetry.sdk.trace.export import BatchExportSpanProcessor\n",
    "\n",
    "jaeger_exporter = jaeger.JaegerSpanExporter(\n",
    "    service_name=\"kubecon SD 2\",\n",
    "    # configure agent\n",
    "    agent_host_name=\"localhost\",\n",
    "    agent_port=6831,\n",
    "    # optional: configure also collector\n",
    "    # collector_host_name=\"localhost\",\n",
    "    # collector_port=14268,\n",
    "    # collector_endpoint=\"/api/traces?format=jaeger.thrift\",\n",
    "    # username=xxxx, # optional\n",
    "    # password=xxxx, # optional\n",
    ")\n",
    "\n",
    "# create a BatchExportSpanProcessor and add the exporter to it\n",
    "span_processor = BatchExportSpanProcessor(jaeger_exporter)\n",
    "\n",
    "# add to the tracer\n",
    "tracer.add_span_processor(span_processor)"
   ]
  },
  {
   "cell_type": "code",
   "execution_count": 4,
   "metadata": {},
   "outputs": [],
   "source": [
    "# https://github.com/opentracing-contrib/python-redis\n",
    "\n",
    "# import redis\n",
    "# import redis_opentracing\n",
    "# from datetime import datetime as dt\n",
    "\n",
    "# redis_opentracing.init_tracing(shim_tracer)\n",
    "# client = redis.StrictRedis()\n",
    "# client"
   ]
  },
  {
   "cell_type": "code",
   "execution_count": 5,
   "metadata": {},
   "outputs": [],
   "source": [
    "# with shim_tracer.start_active_span('parent') as parent:\n",
    "#     client.set('foo', 'bar')\n",
    "#     client.get('foo')"
   ]
  },
  {
   "cell_type": "code",
   "execution_count": 6,
   "metadata": {},
   "outputs": [],
   "source": [
    "# client.__class__"
   ]
  },
  {
   "cell_type": "code",
   "execution_count": 7,
   "metadata": {},
   "outputs": [],
   "source": [
    "# client.expire('foo', 10)"
   ]
  },
  {
   "cell_type": "code",
   "execution_count": 8,
   "metadata": {},
   "outputs": [],
   "source": [
    "# client.get('foo')"
   ]
  },
  {
   "cell_type": "code",
   "execution_count": 9,
   "metadata": {},
   "outputs": [],
   "source": [
    "\"\"\"\n",
    "This is an example of a library written to work with opentracing-python. It\n",
    "provides a simple caching decorator backed by Redis, and uses the OpenTracing\n",
    "Redis integartion to automatically generate spans for each call to Redis.\n",
    "\"\"\"\n",
    "\n",
    "import json\n",
    "import pickle\n",
    "from functools import wraps\n",
    "\n",
    "import redis\n",
    "import redis_opentracing\n",
    "\n",
    "\n",
    "class RedisCache:\n",
    "    \"\"\"Redis-backed caching decorator, using OpenTracing!\n",
    "\n",
    "    Args:\n",
    "        tracer: an opentracing.tracer.Tracer\n",
    "    \"\"\"\n",
    "\n",
    "    def __init__(self, tracer):\n",
    "        redis_opentracing.init_tracing(tracer)\n",
    "        self.tracer = tracer\n",
    "        self.client = redis.StrictRedis()\n",
    "\n",
    "    def __call__(self, func):\n",
    "        @wraps(func)\n",
    "        def inner(*args, **kwargs):\n",
    "            with self.tracer.start_active_span(\"Caching decorator\") as scope1:\n",
    "\n",
    "                # Pickle the call args to get a canonical key. Don't do this in\n",
    "                # prod!\n",
    "                key = pickle.dumps((func.__qualname__, args, kwargs))\n",
    "\n",
    "                pval = self.client.get(key)\n",
    "                if pval is not None:\n",
    "                    val = pickle.loads(pval)\n",
    "                    scope1.span.log_kv(\n",
    "                        {\"msg\": \"Found cached value\", \"val\": val}\n",
    "                    )\n",
    "                    return val\n",
    "\n",
    "                scope1.span.log_kv({\"msg\": \"Cache miss, calling function\"})\n",
    "                with self.tracer.start_active_span(\n",
    "                    'Call \"{}\"'.format(func.__name__)\n",
    "                ) as scope2:\n",
    "                    scope2.span.set_tag(\"func\", func.__name__)\n",
    "                    scope2.span.set_tag(\"args\", str(args))\n",
    "                    scope2.span.set_tag(\"kwargs\", str(kwargs))\n",
    "\n",
    "                    val = func(*args, **kwargs)\n",
    "                    scope2.span.set_tag(\"val\", str(val))\n",
    "\n",
    "                # Let keys expire after 10 seconds\n",
    "                self.client.setex(key, 10, pickle.dumps(val))\n",
    "                return val\n",
    "\n",
    "        return inner\n"
   ]
  },
  {
   "cell_type": "code",
   "execution_count": 10,
   "metadata": {},
   "outputs": [
    {
     "name": "stdout",
     "output_type": "stream",
     "text": [
      "Object `span.set_attribute` not found.\n"
     ]
    }
   ],
   "source": [
    "span.set_attribute?"
   ]
  },
  {
   "cell_type": "code",
   "execution_count": 11,
   "metadata": {},
   "outputs": [],
   "source": [
    "from opentelemetry.ext import opentracing_shim\n",
    "\n",
    "opentracing_tracer = opentracing_shim.create_tracer(tracer)\n",
    "redis_cache = RedisCache(opentracing_tracer)\n",
    "\n",
    "\n",
    "@redis_cache\n",
    "def fib(n):\n",
    "    if n < 0:\n",
    "        raise ValueError\n",
    "    if n == 0 or n == 1:\n",
    "        return 1\n",
    "    return fib(n - 1) + fib(n - 2)"
   ]
  },
  {
   "cell_type": "code",
   "execution_count": 16,
   "metadata": {},
   "outputs": [],
   "source": [
    "with tracer.start_as_current_span('Fibonacci') as span:\n",
    "    span.set_attribute(\"is_example\", \"yes :)\")\n",
    "    fib(4)"
   ]
  },
  {
   "cell_type": "code",
   "execution_count": 15,
   "metadata": {},
   "outputs": [],
   "source": [
    "span.set_attribute?"
   ]
  },
  {
   "cell_type": "code",
   "execution_count": 13,
   "metadata": {},
   "outputs": [
    {
     "data": {
      "text/plain": [
       "BoundedList([], maxlen=128)"
      ]
     },
     "execution_count": 13,
     "metadata": {},
     "output_type": "execute_result"
    }
   ],
   "source": [
    "span.events"
   ]
  },
  {
   "cell_type": "code",
   "execution_count": 14,
   "metadata": {},
   "outputs": [],
   "source": [
    "from opentelemetry.ext import jaeger as jaeger_ext"
   ]
  },
  {
   "cell_type": "code",
   "execution_count": 15,
   "metadata": {},
   "outputs": [],
   "source": [
    "jaeger_ext._extract_logs_from_span(span)"
   ]
  },
  {
   "cell_type": "code",
   "execution_count": null,
   "metadata": {},
   "outputs": [],
   "source": []
  }
 ],
 "metadata": {
  "kernelspec": {
   "display_name": "opentelemetry",
   "language": "python",
   "name": "opentelemetry"
  },
  "language_info": {
   "codemirror_mode": {
    "name": "ipython",
    "version": 3
   },
   "file_extension": ".py",
   "mimetype": "text/x-python",
   "name": "python",
   "nbconvert_exporter": "python",
   "pygments_lexer": "ipython3",
   "version": "3.7.2"
  }
 },
 "nbformat": 4,
 "nbformat_minor": 2
}
