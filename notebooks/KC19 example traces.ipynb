{
 "cells": [
  {
   "cell_type": "code",
   "execution_count": 1,
   "metadata": {},
   "outputs": [],
   "source": [
    "%load_ext autoreload\n",
    "%autoreload 2"
   ]
  },
  {
   "cell_type": "code",
   "execution_count": 2,
   "metadata": {},
   "outputs": [],
   "source": [
    "# lifted from\n",
    "# https://github.com/open-telemetry/opentelemetry-python/blob/master/ext/opentelemetry-ext-jaeger/examples/jaeger_exporter_example.py"
   ]
  },
  {
   "cell_type": "code",
   "execution_count": 3,
   "metadata": {},
   "outputs": [
    {
     "data": {
      "text/plain": [
       "<opentelemetry.sdk.trace.Tracer at 0x108ee8550>"
      ]
     },
     "execution_count": 3,
     "metadata": {},
     "output_type": "execute_result"
    }
   ],
   "source": [
    "from opentelemetry.sdk.trace import Tracer\n",
    "from opentelemetry import trace as trace_api\n",
    "\n",
    "try:\n",
    "    trace_api.set_preferred_tracer_implementation(lambda T: Tracer())\n",
    "    tracer = trace_api.tracer()\n",
    "except RuntimeError:\n",
    "    pass\n",
    "\n",
    "tracer"
   ]
  },
  {
   "cell_type": "code",
   "execution_count": 4,
   "metadata": {},
   "outputs": [],
   "source": [
    "import time\n",
    "from opentelemetry.ext import jaeger\n",
    "from opentelemetry.sdk.trace.export import BatchExportSpanProcessor\n",
    "from opentelemetry.sdk.trace.export import SimpleExportSpanProcessor\n",
    "from opentelemetry.sdk.trace.export import ConsoleSpanExporter\n",
    "\n",
    "logging_sp = SimpleExportSpanProcessor(\n",
    "    ConsoleSpanExporter()\n",
    ")\n",
    "\n",
    "je1 = jaeger.JaegerSpanExporter(\n",
    "    service_name=\"Upstream\",\n",
    "    agent_host_name=\"localhost\",\n",
    "    agent_port=6831,\n",
    ")\n",
    "sp1 = BatchExportSpanProcessor(je1)\n",
    "tracer.add_span_processor(sp1)\n",
    "tracer.add_span_processor(logging_sp)\n",
    "\n",
    "\n",
    "je2 = jaeger.JaegerSpanExporter(\n",
    "    service_name=\"This Service\",\n",
    "    agent_host_name=\"localhost\",\n",
    "    agent_port=6831,\n",
    ")\n",
    "sp2 = BatchExportSpanProcessor(je2)\n",
    "t2 = Tracer()\n",
    "t2.add_span_processor(sp2)\n",
    "t2.add_span_processor(logging_sp)\n",
    "\n",
    "\n",
    "je3 = jaeger.JaegerSpanExporter(\n",
    "    service_name=\"Downstream\",\n",
    "    agent_host_name=\"localhost\",\n",
    "    agent_port=6831,\n",
    ")\n",
    "sp3 = BatchExportSpanProcessor(je3)\n",
    "t3 = Tracer()\n",
    "t3.add_span_processor(sp3)\n",
    "t3.add_span_processor(logging_sp)"
   ]
  },
  {
   "cell_type": "code",
   "execution_count": 5,
   "metadata": {},
   "outputs": [
    {
     "name": "stdout",
     "output_type": "stream",
     "text": [
      "Span(name=\"some work\", context=SpanContext(trace_id=0x8714f6b0dd95e9d704e55ce9068e946f, span_id=0x3e10bb72e78a4e5c, trace_state={}), kind=SpanKind.INTERNAL, parent=Span(name=\"this one\", context=SpanContext(trace_id=0x8714f6b0dd95e9d704e55ce9068e946f, span_id=0xa075b53b0b07430d, trace_state={})), start_time=2019-11-12T23:12:53.869922Z, end_time=2019-11-12T23:12:54.074509Z)\n",
      "Span(name=\"downstream 1\", context=SpanContext(trace_id=0x8714f6b0dd95e9d704e55ce9068e946f, span_id=0xee66ff917896b94f, trace_state={}), kind=SpanKind.INTERNAL, parent=Span(name=\"this one\", context=SpanContext(trace_id=0x8714f6b0dd95e9d704e55ce9068e946f, span_id=0xa075b53b0b07430d, trace_state={})), start_time=2019-11-12T23:12:54.075153Z, end_time=2019-11-12T23:12:54.577829Z)\n",
      "Span(name=\"downstream 2\", context=SpanContext(trace_id=0x8714f6b0dd95e9d704e55ce9068e946f, span_id=0xdac51c6459e2eba0, trace_state={}), kind=SpanKind.INTERNAL, parent=Span(name=\"this one\", context=SpanContext(trace_id=0x8714f6b0dd95e9d704e55ce9068e946f, span_id=0xa075b53b0b07430d, trace_state={})), start_time=2019-11-12T23:12:54.176269Z, end_time=2019-11-12T23:12:54.677035Z)\n",
      "Span(name=\"downstream 3\", context=SpanContext(trace_id=0x8714f6b0dd95e9d704e55ce9068e946f, span_id=0x9d5bb8222665044b, trace_state={}), kind=SpanKind.INTERNAL, parent=Span(name=\"this one\", context=SpanContext(trace_id=0x8714f6b0dd95e9d704e55ce9068e946f, span_id=0xa075b53b0b07430d, trace_state={})), start_time=2019-11-12T23:12:54.279373Z, end_time=2019-11-12T23:12:54.783945Z)\n",
      "Span(name=\"this one\", context=SpanContext(trace_id=0x8714f6b0dd95e9d704e55ce9068e946f, span_id=0xa075b53b0b07430d, trace_state={}), kind=SpanKind.INTERNAL, parent=Span(name=\"upstream\", context=SpanContext(trace_id=0x8714f6b0dd95e9d704e55ce9068e946f, span_id=0x04ebeb5c5caeac20, trace_state={})), start_time=2019-11-12T23:12:53.869855Z, end_time=2019-11-12T23:12:54.984738Z)\n",
      "Span(name=\"upstream\", context=SpanContext(trace_id=0x8714f6b0dd95e9d704e55ce9068e946f, span_id=0x04ebeb5c5caeac20, trace_state={}), kind=SpanKind.INTERNAL, parent=None, start_time=2019-11-12T23:12:53.664887Z, end_time=2019-11-12T23:12:55.188213Z)\n"
     ]
    }
   ],
   "source": [
    "import asyncio\n",
    "\n",
    "async def nop(n):\n",
    "    with t3.start_as_current_span(\"downstream {}\".format(n)):\n",
    "        await asyncio.sleep(.5)\n",
    "        return n\n",
    "\n",
    "with tracer.start_as_current_span(\"upstream\") as upstream:\n",
    "    await asyncio.sleep(.2)\n",
    "\n",
    "    with t2.start_as_current_span(\"this one\") as this_one:\n",
    "        with t2.start_as_current_span(\"some work\") as some_work:\n",
    "            await asyncio.sleep(.2)\n",
    "\n",
    "        tasks = []\n",
    "        tasks.append(asyncio.create_task(nop(1)))\n",
    "        await asyncio.sleep(.1)\n",
    "        tasks.append(asyncio.create_task(nop(2)))\n",
    "        await asyncio.sleep(.1)\n",
    "        tasks.append(asyncio.create_task(nop(3)))\n",
    "\n",
    "        for t in tasks:\n",
    "            await(t)\n",
    "\n",
    "        await asyncio.sleep(.2)\n",
    "    await asyncio.sleep(.2)"
   ]
  },
  {
   "cell_type": "code",
   "execution_count": 6,
   "metadata": {},
   "outputs": [],
   "source": [
    "sp1.shutdown()\n",
    "sp2.shutdown()\n",
    "sp3.shutdown()"
   ]
  },
  {
   "cell_type": "code",
   "execution_count": 5,
   "metadata": {},
   "outputs": [
    {
     "name": "stdout",
     "output_type": "stream",
     "text": [
      "Span(name=\"kubecon_talk\", context=SpanContext(trace_id=0x4a70275724c553a28d3fee9a65231c44, span_id=0x9b77d07b464ba8f1, trace_state={}), kind=SpanKind.INTERNAL, parent=None, start_time=2019-11-13T00:13:16.025103Z, end_time=2019-11-13T00:13:16.025140Z)\n"
     ]
    }
   ],
   "source": [
    "give_kubecon_talk = lambda: None\n",
    "\n",
    "# instrumenting application code\n",
    "\n",
    "from opentelemetry import trace\n",
    "\n",
    "# tracer = trace.tracer() # shared tracer\n",
    "\n",
    "with tracer.start_as_current_span(\"kubecon_talk\") as span:\n",
    "    give_kubecon_talk()\n",
    "    span.add_event(\"applause\", {\"racuous\": True})"
   ]
  },
  {
   "cell_type": "code",
   "execution_count": 9,
   "metadata": {},
   "outputs": [
    {
     "data": {
      "text/plain": [
       "{'_name': 'applause',\n",
       " '_attributes': {'racuous': True},\n",
       " '_timestamp': 1573603996025122000}"
      ]
     },
     "execution_count": 9,
     "metadata": {},
     "output_type": "execute_result"
    }
   ],
   "source": [
    "span.events[0].__dict__"
   ]
  },
  {
   "cell_type": "code",
   "execution_count": null,
   "metadata": {},
   "outputs": [],
   "source": []
  }
 ],
 "metadata": {
  "kernelspec": {
   "display_name": "opentelemetry",
   "language": "python",
   "name": "opentelemetry"
  },
  "language_info": {
   "codemirror_mode": {
    "name": "ipython",
    "version": 3
   },
   "file_extension": ".py",
   "mimetype": "text/x-python",
   "name": "python",
   "nbconvert_exporter": "python",
   "pygments_lexer": "ipython3",
   "version": "3.7.2"
  }
 },
 "nbformat": 4,
 "nbformat_minor": 2
}
