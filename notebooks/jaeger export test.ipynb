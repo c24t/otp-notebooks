{
 "cells": [
  {
   "cell_type": "code",
   "execution_count": 1,
   "metadata": {},
   "outputs": [],
   "source": [
    "%load_ext autoreload\n",
    "%autoreload 2"
   ]
  },
  {
   "cell_type": "code",
   "execution_count": 2,
   "metadata": {},
   "outputs": [],
   "source": [
    "# lifted from\n",
    "# https://github.com/open-telemetry/opentelemetry-python/blob/master/ext/opentelemetry-ext-jaeger/examples/jaeger_exporter_example.py"
   ]
  },
  {
   "cell_type": "code",
   "execution_count": 3,
   "metadata": {},
   "outputs": [
    {
     "data": {
      "text/plain": [
       "<opentelemetry.sdk.trace.Tracer at 0x10e5dc240>"
      ]
     },
     "execution_count": 3,
     "metadata": {},
     "output_type": "execute_result"
    }
   ],
   "source": [
    "from opentelemetry.sdk.trace import Tracer\n",
    "from opentelemetry import trace as trace_api\n",
    "\n",
    "try:\n",
    "    trace_api.set_preferred_tracer_implementation(lambda T: Tracer())\n",
    "    tracer = trace_api.tracer()\n",
    "except RuntimeError:\n",
    "    pass\n",
    "\n",
    "tracer"
   ]
  },
  {
   "cell_type": "code",
   "execution_count": 4,
   "metadata": {},
   "outputs": [],
   "source": [
    "import time\n",
    "from opentelemetry.ext import jaeger\n",
    "from opentelemetry.sdk.trace.export import BatchExportSpanProcessor\n",
    "\n",
    "jaeger_exporter = jaeger.JaegerSpanExporter(\n",
    "    service_name=\"my-helloworld-service\",\n",
    "    # configure agent\n",
    "    agent_host_name=\"localhost\",\n",
    "    agent_port=6831,\n",
    "    # optional: configure also collector\n",
    "    # collector_host_name=\"localhost\",\n",
    "    # collector_port=14268,\n",
    "    # collector_endpoint=\"/api/traces?format=jaeger.thrift\",\n",
    "    # username=xxxx, # optional\n",
    "    # password=xxxx, # optional\n",
    ")\n",
    "\n",
    "# create a BatchExportSpanProcessor and add the exporter to it\n",
    "span_processor = BatchExportSpanProcessor(jaeger_exporter)\n",
    "\n",
    "# add to the tracer\n",
    "tracer.add_span_processor(span_processor)\n",
    "\n",
    "# create some spans for testing\n",
    "with tracer.start_as_current_span(\"foo\") as foo:\n",
    "    time.sleep(0.1)\n",
    "    foo.set_attribute(\"my_atribbute\", True)\n",
    "    foo.add_event(\"event in foo\", {\"name\": \"foo1\"})\n",
    "    with tracer.start_as_current_span(\"bar\") as bar:\n",
    "        time.sleep(0.2)\n",
    "        bar.set_attribute(\"speed\", 100.0)\n",
    "        bar.add_link(foo.get_context())\n",
    "\n",
    "        with tracer.start_as_current_span(\"baz\") as baz:\n",
    "            time.sleep(0.3)\n",
    "            baz.set_attribute(\"name\", \"mauricio\")\n",
    "\n",
    "        time.sleep(0.2)\n",
    "\n",
    "    time.sleep(0.1)\n",
    "\n",
    "# shutdown the span processor\n",
    "# TODO: this has to be improved so user doesn't need to call it manually\n",
    "span_processor.shutdown()\n"
   ]
  },
  {
   "cell_type": "code",
   "execution_count": null,
   "metadata": {},
   "outputs": [],
   "source": []
  }
 ],
 "metadata": {
  "kernelspec": {
   "display_name": "opentelemetry",
   "language": "python",
   "name": "opentelemetry"
  },
  "language_info": {
   "codemirror_mode": {
    "name": "ipython",
    "version": 3
   },
   "file_extension": ".py",
   "mimetype": "text/x-python",
   "name": "python",
   "nbconvert_exporter": "python",
   "pygments_lexer": "ipython3",
   "version": "3.7.2"
  }
 },
 "nbformat": 4,
 "nbformat_minor": 2
}
