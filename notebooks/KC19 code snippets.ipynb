{
 "cells": [
  {
   "cell_type": "code",
   "execution_count": 1,
   "metadata": {},
   "outputs": [],
   "source": [
    "%load_ext autoreload\n",
    "%autoreload 2"
   ]
  },
  {
   "cell_type": "code",
   "execution_count": 2,
   "metadata": {},
   "outputs": [],
   "source": [
    "# lifted from\n",
    "# https://github.com/open-telemetry/opentelemetry-python/blob/master/ext/opentelemetry-ext-jaeger/examples/jaeger_exporter_example.py"
   ]
  },
  {
   "cell_type": "code",
   "execution_count": 13,
   "metadata": {},
   "outputs": [
    {
     "name": "stderr",
     "output_type": "stream",
     "text": [
      "WARNING:root:Already shutdown, dropping span.\n"
     ]
    },
    {
     "name": "stdout",
     "output_type": "stream",
     "text": [
      "Span(name=\"kubecon_talk\", context=SpanContext(trace_id=0x0e8d2a0583293447af78be2f5ad7c5c1, span_id=0xa64dc8b3b67f039f, trace_state={}), kind=SpanKind.INTERNAL, parent=None, start_time=2019-11-12T23:56:58.113302Z, end_time=2019-11-12T23:56:58.113354Z)\n"
     ]
    }
   ],
   "source": [
    "give_kubecon_talk = lambda: None\n",
    "\n",
    "# instrumenting application code\n",
    "\n",
    "from opentelemetry import trace\n",
    "\n",
    "tracer = trace.tracer() # shared tracer\n",
    "\n",
    "with tracer.start_as_current_span(\"kubecon_talk\") as span:\n",
    "    give_kubecon_talk()\n",
    "    span.add_event(\"applause\", {\"racuous\": True})"
   ]
  },
  {
   "cell_type": "code",
   "execution_count": null,
   "metadata": {},
   "outputs": [],
   "source": [
    "# loading the SDK\n",
    "\n",
    "from opentelemetry import trace\n",
    "from opentelemetry.sdk import Tracer\n",
    "\n",
    "trace.set_preferred_tracer_implementation(Tracer)"
   ]
  },
  {
   "cell_type": "code",
   "execution_count": 9,
   "metadata": {},
   "outputs": [],
   "source": [
    "# configuring a basic exporter\n",
    "\n",
    "from opentelemetry import trace\n",
    "from opentelemetry.sdk.trace.export import ConsoleSpanExporter\n",
    "from opentelemetry.sdk.trace.export import SimpleExportSpanProcessor\n",
    "\n",
    "tracer.add_span_processor(\n",
    "    SimpleExportSpanProcessor(  # exports spans in batches\n",
    "        ConsoleSpanExporter()   # prints to the console\n",
    "    )\n",
    ")"
   ]
  },
  {
   "cell_type": "code",
   "execution_count": 10,
   "metadata": {},
   "outputs": [],
   "source": [
    "jaeger_config = {}\n",
    "batching_config = {}\n",
    "\n",
    "# a more realistic example: Jaeger\n",
    "\n",
    "from opentelemetry import trace\n",
    "from opentelemetry.ext.jaeger import JaegerSpanExporter\n",
    "from opentelemetry.sdk.trace.export import SimpleExportSpanProcessor\n",
    "\n",
    "tracer = trace.tracer() # shared tracer\n",
    "\n",
    "tracer.add_span_processor(\n",
    "    BatchExportSpanProcessor(  # exports each span immediately\n",
    "        JaegerSpanExporter(\n",
    "            service_name=\"KubeCon Demo\",\n",
    "            **jaeger_config\n",
    "        ),\n",
    "        **batching_config\n",
    "    )\n",
    ")\n",
    "\n",
    "# takeaway: it's possible to configure multiple exporters with diferent export strategies\n",
    "# changing APMs should be as easy as replacing the exporter"
   ]
  }
 ],
 "metadata": {
  "kernelspec": {
   "display_name": "opentelemetry",
   "language": "python",
   "name": "opentelemetry"
  },
  "language_info": {
   "codemirror_mode": {
    "name": "ipython",
    "version": 3
   },
   "file_extension": ".py",
   "mimetype": "text/x-python",
   "name": "python",
   "nbconvert_exporter": "python",
   "pygments_lexer": "ipython3",
   "version": "3.7.2"
  }
 },
 "nbformat": 4,
 "nbformat_minor": 2
}
