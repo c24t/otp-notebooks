{
 "cells": [
  {
   "cell_type": "code",
   "execution_count": 1,
   "metadata": {},
   "outputs": [],
   "source": [
    "%load_ext autoreload\n",
    "%autoreload 2"
   ]
  },
  {
   "cell_type": "code",
   "execution_count": 2,
   "metadata": {},
   "outputs": [],
   "source": [
    "# if this doesn't work make sure you're using the right kernel\n",
    "# and that the kernel is installed in the same venv as OT itself\n",
    "# !which pip\n",
    "# /Users/libc/src/opentelemetry-python/env/hacks/bin/pip\n",
    "from opentelemetry.sdk import trace"
   ]
  },
  {
   "cell_type": "code",
   "execution_count": 3,
   "metadata": {},
   "outputs": [
    {
     "data": {
      "text/plain": [
       "<module 'opentelemetry.sdk.trace' from '/Users/libc/src/opentelemetry-python/opentelemetry-sdk/src/opentelemetry/sdk/trace/__init__.py'>"
      ]
     },
     "execution_count": 3,
     "metadata": {},
     "output_type": "execute_result"
    }
   ],
   "source": [
    "trace"
   ]
  },
  {
   "cell_type": "code",
   "execution_count": 4,
   "metadata": {},
   "outputs": [],
   "source": [
    "tracer = trace.Tracer()"
   ]
  },
  {
   "cell_type": "code",
   "execution_count": 5,
   "metadata": {},
   "outputs": [
    {
     "data": {
      "text/plain": [
       "<opentelemetry.sdk.trace.Tracer at 0x1080dbcc0>"
      ]
     },
     "execution_count": 5,
     "metadata": {},
     "output_type": "execute_result"
    }
   ],
   "source": [
    "tracer"
   ]
  },
  {
   "cell_type": "code",
   "execution_count": 6,
   "metadata": {},
   "outputs": [
    {
     "data": {
      "text/plain": [
       "True"
      ]
     },
     "execution_count": 6,
     "metadata": {},
     "output_type": "execute_result"
    }
   ],
   "source": [
    "from opentelemetry.context.async_context import AsyncRuntimeContext\n",
    "\n",
    "context = AsyncRuntimeContext()\n",
    "context.current_span is None"
   ]
  },
  {
   "cell_type": "code",
   "execution_count": 7,
   "metadata": {},
   "outputs": [
    {
     "name": "stdout",
     "output_type": "stream",
     "text": [
      "Span(name=\"name\", context=SpanContext(trace_id=0xad8c9ee81e862da16aee18510930399c, span_id=0xb74f14deb254a3cd), kind=SpanKind.INTERNAL, parent=None, start_time=2019-09-26T15:58:55.464676Z, end_time=None)\n"
     ]
    }
   ],
   "source": [
    "with tracer.start_span('name') as span:\n",
    "    print(span)"
   ]
  },
  {
   "cell_type": "code",
   "execution_count": 8,
   "metadata": {},
   "outputs": [
    {
     "name": "stdout",
     "output_type": "stream",
     "text": [
      "Span(name=\"name\", context=SpanContext(trace_id=0xe9d139acbaf0d646b0c1d1f1cf696c99, span_id=0x4aa27c6517c859a5), kind=SpanKind.INTERNAL, parent=None, start_time=2019-09-26T15:58:56.330718Z, end_time=None)\n",
      "Span(name=\"name\", context=SpanContext(trace_id=0xe9d139acbaf0d646b0c1d1f1cf696c99, span_id=0x4aa27c6517c859a5), kind=SpanKind.INTERNAL, parent=None, start_time=2019-09-26T15:58:56.330718Z, end_time=None)\n"
     ]
    },
    {
     "ename": "AttributeError",
     "evalue": "module 'opentelemetry.sdk.trace' has no attribute '_CURRENT_SPAN_CV'",
     "output_type": "error",
     "traceback": [
      "\u001b[0;31m---------------------------------------------------------------------------\u001b[0m",
      "\u001b[0;31mAttributeError\u001b[0m                            Traceback (most recent call last)",
      "\u001b[0;32m<ipython-input-8-3e3f50198a9b>\u001b[0m in \u001b[0;36m<module>\u001b[0;34m\u001b[0m\n\u001b[1;32m      4\u001b[0m     \u001b[0mprint\u001b[0m\u001b[0;34m(\u001b[0m\u001b[0mspan\u001b[0m\u001b[0;34m)\u001b[0m\u001b[0;34m\u001b[0m\u001b[0;34m\u001b[0m\u001b[0m\n\u001b[1;32m      5\u001b[0m     \u001b[0mprint\u001b[0m\u001b[0;34m(\u001b[0m\u001b[0mtracer\u001b[0m\u001b[0;34m.\u001b[0m\u001b[0mget_current_span\u001b[0m\u001b[0;34m(\u001b[0m\u001b[0;34m)\u001b[0m\u001b[0;34m)\u001b[0m\u001b[0;34m\u001b[0m\u001b[0;34m\u001b[0m\u001b[0m\n\u001b[0;32m----> 6\u001b[0;31m     \u001b[0mprint\u001b[0m\u001b[0;34m(\u001b[0m\u001b[0mtrace\u001b[0m\u001b[0;34m.\u001b[0m\u001b[0m_CURRENT_SPAN_CV\u001b[0m\u001b[0;34m.\u001b[0m\u001b[0mget\u001b[0m\u001b[0;34m(\u001b[0m\u001b[0;34m)\u001b[0m\u001b[0;34m)\u001b[0m\u001b[0;34m\u001b[0m\u001b[0;34m\u001b[0m\u001b[0m\n\u001b[0m\u001b[1;32m      7\u001b[0m \u001b[0mprint\u001b[0m\u001b[0;34m(\u001b[0m\u001b[0mtracer\u001b[0m\u001b[0;34m.\u001b[0m\u001b[0mget_current_span\u001b[0m\u001b[0;34m(\u001b[0m\u001b[0;34m)\u001b[0m\u001b[0;34m)\u001b[0m\u001b[0;34m\u001b[0m\u001b[0;34m\u001b[0m\u001b[0m\n\u001b[1;32m      8\u001b[0m \u001b[0mprint\u001b[0m\u001b[0;34m(\u001b[0m\u001b[0mtrace\u001b[0m\u001b[0;34m.\u001b[0m\u001b[0m_CURRENT_SPAN\u001b[0m\u001b[0;34m.\u001b[0m\u001b[0mget\u001b[0m\u001b[0;34m(\u001b[0m\u001b[0;34m)\u001b[0m\u001b[0;34m)\u001b[0m\u001b[0;34m\u001b[0m\u001b[0;34m\u001b[0m\u001b[0m\n",
      "\u001b[0;31mAttributeError\u001b[0m: module 'opentelemetry.sdk.trace' has no attribute '_CURRENT_SPAN_CV'"
     ]
    }
   ],
   "source": [
    "span = tracer.create_span('name', None)\n",
    "with tracer.use_span(span):\n",
    "    # should all be the same new span\n",
    "    print(span)\n",
    "    print(tracer.get_current_span())\n",
    "    print(trace._CURRENT_SPAN_CV.get())\n",
    "print(tracer.get_current_span())\n",
    "print(trace._CURRENT_SPAN.get())\n",
    "# note that span from the CM above survives out here, but should be stopped now"
   ]
  },
  {
   "cell_type": "code",
   "execution_count": 9,
   "metadata": {},
   "outputs": [
    {
     "name": "stdout",
     "output_type": "stream",
     "text": [
      "Span(name=\"implicit root\", context=SpanContext(trace_id=0xbad0b92ee2cbe33e00a4e2fc61f7de26, span_id=0x9f626ab2e4ece273), kind=SpanKind.INTERNAL, parent=None, start_time=2019-09-26T15:58:56.939888Z, end_time=None)\n",
      "Span(name=\"implicit root\", context=SpanContext(trace_id=0xbad0b92ee2cbe33e00a4e2fc61f7de26, span_id=0x9f626ab2e4ece273), kind=SpanKind.INTERNAL, parent=None, start_time=2019-09-26T15:58:56.939888Z, end_time=None)\n"
     ]
    },
    {
     "ename": "AttributeError",
     "evalue": "module 'opentelemetry.sdk.trace' has no attribute '_CURRENT_SPAN_CV'",
     "output_type": "error",
     "traceback": [
      "\u001b[0;31m---------------------------------------------------------------------------\u001b[0m",
      "\u001b[0;31mAttributeError\u001b[0m                            Traceback (most recent call last)",
      "\u001b[0;32m<ipython-input-9-06c4e93c046a>\u001b[0m in \u001b[0;36m<module>\u001b[0;34m\u001b[0m\n\u001b[1;32m      3\u001b[0m     \u001b[0mprint\u001b[0m\u001b[0;34m(\u001b[0m\u001b[0mspan\u001b[0m\u001b[0;34m)\u001b[0m\u001b[0;34m\u001b[0m\u001b[0;34m\u001b[0m\u001b[0m\n\u001b[1;32m      4\u001b[0m     \u001b[0mprint\u001b[0m\u001b[0;34m(\u001b[0m\u001b[0mtracer\u001b[0m\u001b[0;34m.\u001b[0m\u001b[0mget_current_span\u001b[0m\u001b[0;34m(\u001b[0m\u001b[0;34m)\u001b[0m\u001b[0;34m)\u001b[0m\u001b[0;34m\u001b[0m\u001b[0;34m\u001b[0m\u001b[0m\n\u001b[0;32m----> 5\u001b[0;31m     \u001b[0mprint\u001b[0m\u001b[0;34m(\u001b[0m\u001b[0mtrace\u001b[0m\u001b[0;34m.\u001b[0m\u001b[0m_CURRENT_SPAN_CV\u001b[0m\u001b[0;34m.\u001b[0m\u001b[0mget\u001b[0m\u001b[0;34m(\u001b[0m\u001b[0;34m)\u001b[0m\u001b[0;34m)\u001b[0m\u001b[0;34m\u001b[0m\u001b[0;34m\u001b[0m\u001b[0m\n\u001b[0m\u001b[1;32m      6\u001b[0m     \u001b[0;32mwith\u001b[0m \u001b[0mtracer\u001b[0m\u001b[0;34m.\u001b[0m\u001b[0mstart_span\u001b[0m\u001b[0;34m(\u001b[0m\u001b[0;34m'child span'\u001b[0m\u001b[0;34m)\u001b[0m \u001b[0;32mas\u001b[0m \u001b[0mspan\u001b[0m\u001b[0;34m:\u001b[0m\u001b[0;34m\u001b[0m\u001b[0;34m\u001b[0m\u001b[0m\n\u001b[1;32m      7\u001b[0m         \u001b[0mprint\u001b[0m\u001b[0;34m(\u001b[0m\u001b[0mspan\u001b[0m\u001b[0;34m)\u001b[0m\u001b[0;34m\u001b[0m\u001b[0;34m\u001b[0m\u001b[0m\n",
      "\u001b[0;31mAttributeError\u001b[0m: module 'opentelemetry.sdk.trace' has no attribute '_CURRENT_SPAN_CV'"
     ]
    }
   ],
   "source": [
    "with tracer.start_span('implicit root') as span:\n",
    "    # should all be the same new span\n",
    "    print(span)\n",
    "    print(tracer.get_current_span())\n",
    "    print(trace._CURRENT_SPAN_CV.get())\n",
    "    with tracer.start_span('child span') as span:\n",
    "        print(span)\n",
    "        print(tracer.get_current_span())\n",
    "        print(trace._CURRENT_SPAN_CV.get())\n",
    "print(tracer.get_current_span())"
   ]
  },
  {
   "cell_type": "code",
   "execution_count": 80,
   "metadata": {},
   "outputs": [
    {
     "data": {
      "text/plain": [
       "<ContextVar name='current_span' default=None at 0x105511fc0>"
      ]
     },
     "execution_count": 80,
     "metadata": {},
     "output_type": "execute_result"
    }
   ],
   "source": [
    "trace._CURRENT_SPAN"
   ]
  },
  {
   "cell_type": "code",
   "execution_count": 81,
   "metadata": {},
   "outputs": [
    {
     "data": {
      "text/plain": [
       "<opentelemetry.trace.Span at 0x104e3a588>"
      ]
     },
     "execution_count": 81,
     "metadata": {},
     "output_type": "execute_result"
    }
   ],
   "source": []
  },
  {
   "cell_type": "code",
   "execution_count": null,
   "metadata": {},
   "outputs": [],
   "source": []
  }
 ],
 "metadata": {
  "kernelspec": {
   "display_name": ".otjupenv",
   "language": "python",
   "name": ".otjupenv"
  },
  "language_info": {
   "codemirror_mode": {
    "name": "ipython",
    "version": 3
   },
   "file_extension": ".py",
   "mimetype": "text/x-python",
   "name": "python",
   "nbconvert_exporter": "python",
   "pygments_lexer": "ipython3",
   "version": "3.7.2"
  }
 },
 "nbformat": 4,
 "nbformat_minor": 2
}
